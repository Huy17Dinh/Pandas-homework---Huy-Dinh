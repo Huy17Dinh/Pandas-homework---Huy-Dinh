{
 "cells": [
  {
   "cell_type": "markdown",
   "metadata": {},
   "source": [
    "### Note\n",
    "* Instructions have been included for each segment. You do not have to follow them exactly, but they are included to help you think through the steps."
   ]
  },
  {
   "cell_type": "code",
   "execution_count": 1,
   "metadata": {},
   "outputs": [],
   "source": [
    "# Dependencies and Setup\n",
    "import pandas as pd\n",
    "\n",
    "# File to Load (Remember to Change These)\n",
    "file_to_load = \"Resources/purchase_data.csv\"\n",
    "\n",
    "# Read Purchasing File and store into Pandas data frame\n",
    "purchase_data = pd.read_csv(file_to_load)"
   ]
  },
  {
   "cell_type": "code",
   "execution_count": 2,
   "metadata": {},
   "outputs": [
    {
     "data": {
      "text/html": [
       "<div>\n",
       "<style scoped>\n",
       "    .dataframe tbody tr th:only-of-type {\n",
       "        vertical-align: middle;\n",
       "    }\n",
       "\n",
       "    .dataframe tbody tr th {\n",
       "        vertical-align: top;\n",
       "    }\n",
       "\n",
       "    .dataframe thead th {\n",
       "        text-align: right;\n",
       "    }\n",
       "</style>\n",
       "<table border=\"1\" class=\"dataframe\">\n",
       "  <thead>\n",
       "    <tr style=\"text-align: right;\">\n",
       "      <th></th>\n",
       "      <th>Purchase ID</th>\n",
       "      <th>SN</th>\n",
       "      <th>Age</th>\n",
       "      <th>Gender</th>\n",
       "      <th>Item ID</th>\n",
       "      <th>Item Name</th>\n",
       "      <th>Price</th>\n",
       "    </tr>\n",
       "  </thead>\n",
       "  <tbody>\n",
       "    <tr>\n",
       "      <th>0</th>\n",
       "      <td>0</td>\n",
       "      <td>Lisim78</td>\n",
       "      <td>20</td>\n",
       "      <td>Male</td>\n",
       "      <td>108</td>\n",
       "      <td>Extraction, Quickblade Of Trembling Hands</td>\n",
       "      <td>3.53</td>\n",
       "    </tr>\n",
       "    <tr>\n",
       "      <th>1</th>\n",
       "      <td>1</td>\n",
       "      <td>Lisovynya38</td>\n",
       "      <td>40</td>\n",
       "      <td>Male</td>\n",
       "      <td>143</td>\n",
       "      <td>Frenzied Scimitar</td>\n",
       "      <td>1.56</td>\n",
       "    </tr>\n",
       "    <tr>\n",
       "      <th>2</th>\n",
       "      <td>2</td>\n",
       "      <td>Ithergue48</td>\n",
       "      <td>24</td>\n",
       "      <td>Male</td>\n",
       "      <td>92</td>\n",
       "      <td>Final Critic</td>\n",
       "      <td>4.88</td>\n",
       "    </tr>\n",
       "    <tr>\n",
       "      <th>3</th>\n",
       "      <td>3</td>\n",
       "      <td>Chamassasya86</td>\n",
       "      <td>24</td>\n",
       "      <td>Male</td>\n",
       "      <td>100</td>\n",
       "      <td>Blindscythe</td>\n",
       "      <td>3.27</td>\n",
       "    </tr>\n",
       "    <tr>\n",
       "      <th>4</th>\n",
       "      <td>4</td>\n",
       "      <td>Iskosia90</td>\n",
       "      <td>23</td>\n",
       "      <td>Male</td>\n",
       "      <td>131</td>\n",
       "      <td>Fury</td>\n",
       "      <td>1.44</td>\n",
       "    </tr>\n",
       "  </tbody>\n",
       "</table>\n",
       "</div>"
      ],
      "text/plain": [
       "   Purchase ID             SN  Age Gender  Item ID  \\\n",
       "0            0        Lisim78   20   Male      108   \n",
       "1            1    Lisovynya38   40   Male      143   \n",
       "2            2     Ithergue48   24   Male       92   \n",
       "3            3  Chamassasya86   24   Male      100   \n",
       "4            4      Iskosia90   23   Male      131   \n",
       "\n",
       "                                   Item Name  Price  \n",
       "0  Extraction, Quickblade Of Trembling Hands   3.53  \n",
       "1                          Frenzied Scimitar   1.56  \n",
       "2                               Final Critic   4.88  \n",
       "3                                Blindscythe   3.27  \n",
       "4                                       Fury   1.44  "
      ]
     },
     "execution_count": 2,
     "metadata": {},
     "output_type": "execute_result"
    }
   ],
   "source": [
    "purchase_data.head()"
   ]
  },
  {
   "cell_type": "code",
   "execution_count": 3,
   "metadata": {},
   "outputs": [
    {
     "data": {
      "text/html": [
       "<div>\n",
       "<style scoped>\n",
       "    .dataframe tbody tr th:only-of-type {\n",
       "        vertical-align: middle;\n",
       "    }\n",
       "\n",
       "    .dataframe tbody tr th {\n",
       "        vertical-align: top;\n",
       "    }\n",
       "\n",
       "    .dataframe thead th {\n",
       "        text-align: right;\n",
       "    }\n",
       "</style>\n",
       "<table border=\"1\" class=\"dataframe\">\n",
       "  <thead>\n",
       "    <tr style=\"text-align: right;\">\n",
       "      <th></th>\n",
       "      <th>Purchase ID</th>\n",
       "      <th>Age</th>\n",
       "      <th>Item ID</th>\n",
       "      <th>Price</th>\n",
       "    </tr>\n",
       "  </thead>\n",
       "  <tbody>\n",
       "    <tr>\n",
       "      <th>count</th>\n",
       "      <td>780.000000</td>\n",
       "      <td>780.000000</td>\n",
       "      <td>780.000000</td>\n",
       "      <td>780.000000</td>\n",
       "    </tr>\n",
       "    <tr>\n",
       "      <th>mean</th>\n",
       "      <td>389.500000</td>\n",
       "      <td>22.714103</td>\n",
       "      <td>91.755128</td>\n",
       "      <td>3.050987</td>\n",
       "    </tr>\n",
       "    <tr>\n",
       "      <th>std</th>\n",
       "      <td>225.310896</td>\n",
       "      <td>6.659444</td>\n",
       "      <td>52.697702</td>\n",
       "      <td>1.169549</td>\n",
       "    </tr>\n",
       "    <tr>\n",
       "      <th>min</th>\n",
       "      <td>0.000000</td>\n",
       "      <td>7.000000</td>\n",
       "      <td>0.000000</td>\n",
       "      <td>1.000000</td>\n",
       "    </tr>\n",
       "    <tr>\n",
       "      <th>25%</th>\n",
       "      <td>194.750000</td>\n",
       "      <td>20.000000</td>\n",
       "      <td>47.750000</td>\n",
       "      <td>1.980000</td>\n",
       "    </tr>\n",
       "    <tr>\n",
       "      <th>50%</th>\n",
       "      <td>389.500000</td>\n",
       "      <td>22.000000</td>\n",
       "      <td>92.000000</td>\n",
       "      <td>3.150000</td>\n",
       "    </tr>\n",
       "    <tr>\n",
       "      <th>75%</th>\n",
       "      <td>584.250000</td>\n",
       "      <td>25.000000</td>\n",
       "      <td>138.000000</td>\n",
       "      <td>4.080000</td>\n",
       "    </tr>\n",
       "    <tr>\n",
       "      <th>max</th>\n",
       "      <td>779.000000</td>\n",
       "      <td>45.000000</td>\n",
       "      <td>183.000000</td>\n",
       "      <td>4.990000</td>\n",
       "    </tr>\n",
       "  </tbody>\n",
       "</table>\n",
       "</div>"
      ],
      "text/plain": [
       "       Purchase ID         Age     Item ID       Price\n",
       "count   780.000000  780.000000  780.000000  780.000000\n",
       "mean    389.500000   22.714103   91.755128    3.050987\n",
       "std     225.310896    6.659444   52.697702    1.169549\n",
       "min       0.000000    7.000000    0.000000    1.000000\n",
       "25%     194.750000   20.000000   47.750000    1.980000\n",
       "50%     389.500000   22.000000   92.000000    3.150000\n",
       "75%     584.250000   25.000000  138.000000    4.080000\n",
       "max     779.000000   45.000000  183.000000    4.990000"
      ]
     },
     "execution_count": 3,
     "metadata": {},
     "output_type": "execute_result"
    }
   ],
   "source": [
    "purchase_data.describe()"
   ]
  },
  {
   "cell_type": "code",
   "execution_count": 4,
   "metadata": {},
   "outputs": [
    {
     "name": "stdout",
     "output_type": "stream",
     "text": [
      "<class 'pandas.core.frame.DataFrame'>\n",
      "RangeIndex: 780 entries, 0 to 779\n",
      "Data columns (total 7 columns):\n",
      " #   Column       Non-Null Count  Dtype  \n",
      "---  ------       --------------  -----  \n",
      " 0   Purchase ID  780 non-null    int64  \n",
      " 1   SN           780 non-null    object \n",
      " 2   Age          780 non-null    int64  \n",
      " 3   Gender       780 non-null    object \n",
      " 4   Item ID      780 non-null    int64  \n",
      " 5   Item Name    780 non-null    object \n",
      " 6   Price        780 non-null    float64\n",
      "dtypes: float64(1), int64(3), object(3)\n",
      "memory usage: 42.8+ KB\n"
     ]
    }
   ],
   "source": [
    "purchase_data.info()"
   ]
  },
  {
   "cell_type": "markdown",
   "metadata": {},
   "source": [
    "## Player Count"
   ]
  },
  {
   "cell_type": "markdown",
   "metadata": {},
   "source": [
    "* Display the total number of players\n"
   ]
  },
  {
   "cell_type": "code",
   "execution_count": null,
   "metadata": {},
   "outputs": [],
   "source": []
  },
  {
   "cell_type": "code",
   "execution_count": 5,
   "metadata": {},
   "outputs": [
    {
     "data": {
      "text/html": [
       "<div>\n",
       "<style scoped>\n",
       "    .dataframe tbody tr th:only-of-type {\n",
       "        vertical-align: middle;\n",
       "    }\n",
       "\n",
       "    .dataframe tbody tr th {\n",
       "        vertical-align: top;\n",
       "    }\n",
       "\n",
       "    .dataframe thead th {\n",
       "        text-align: right;\n",
       "    }\n",
       "</style>\n",
       "<table border=\"1\" class=\"dataframe\">\n",
       "  <thead>\n",
       "    <tr style=\"text-align: right;\">\n",
       "      <th></th>\n",
       "      <th>Total Players</th>\n",
       "    </tr>\n",
       "  </thead>\n",
       "  <tbody>\n",
       "    <tr>\n",
       "      <th>0</th>\n",
       "      <td>576</td>\n",
       "    </tr>\n",
       "  </tbody>\n",
       "</table>\n",
       "</div>"
      ],
      "text/plain": [
       "   Total Players\n",
       "0            576"
      ]
     },
     "execution_count": 5,
     "metadata": {},
     "output_type": "execute_result"
    }
   ],
   "source": [
    "total_players = len(purchase_data['SN'].value_counts())\n",
    "# create a dataframe display total players \n",
    "players = pd.DataFrame({'Total Players' : [total_players]})\n",
    "players"
   ]
  },
  {
   "cell_type": "markdown",
   "metadata": {},
   "source": [
    "## Purchasing Analysis (Total)"
   ]
  },
  {
   "cell_type": "markdown",
   "metadata": {},
   "source": []
  },
  {
   "cell_type": "markdown",
   "metadata": {},
   "source": [
    "* Run basic calculations to obtain number of unique items, average price, etc.\n",
    "\n",
    "\n",
    "* Create a summary data frame to hold the results\n",
    "\n",
    "\n",
    "* Optional: give the displayed data cleaner formatting\n",
    "\n",
    "\n",
    "* Display the summary data frame\n"
   ]
  },
  {
   "cell_type": "code",
   "execution_count": 6,
   "metadata": {},
   "outputs": [
    {
     "data": {
      "text/html": [
       "<style type=\"text/css\">\n",
       "</style>\n",
       "<table id=\"T_d1120_\">\n",
       "  <thead>\n",
       "    <tr>\n",
       "      <th class=\"blank level0\" >&nbsp;</th>\n",
       "      <th class=\"col_heading level0 col0\" >Number of Unique Items</th>\n",
       "      <th class=\"col_heading level0 col1\" >Average Price</th>\n",
       "      <th class=\"col_heading level0 col2\" >Number of Purchase</th>\n",
       "      <th class=\"col_heading level0 col3\" >Total Revenue</th>\n",
       "    </tr>\n",
       "  </thead>\n",
       "  <tbody>\n",
       "    <tr>\n",
       "      <th id=\"T_d1120_level0_row0\" class=\"row_heading level0 row0\" >0</th>\n",
       "      <td id=\"T_d1120_row0_col0\" class=\"data row0 col0\" >179</td>\n",
       "      <td id=\"T_d1120_row0_col1\" class=\"data row0 col1\" >$3.05</td>\n",
       "      <td id=\"T_d1120_row0_col2\" class=\"data row0 col2\" >780</td>\n",
       "      <td id=\"T_d1120_row0_col3\" class=\"data row0 col3\" >$2,379.77</td>\n",
       "    </tr>\n",
       "  </tbody>\n",
       "</table>\n"
      ],
      "text/plain": [
       "<pandas.io.formats.style.Styler at 0x23bd405db50>"
      ]
     },
     "execution_count": 6,
     "metadata": {},
     "output_type": "execute_result"
    }
   ],
   "source": [
    "unique_item = len(purchase_data['Item Name'].unique())\n",
    "avg_price = purchase_data['Price'].mean()\n",
    "number_purchase = purchase_data['Item ID'].count()\n",
    "revenue = purchase_data['Price'].sum()\n",
    "\n",
    "summary = pd.DataFrame({'Number of Unique Items' : [unique_item], \n",
    "                        'Average Price' : [avg_price], \n",
    "                        'Number of Purchase': [number_purchase],\n",
    "                        'Total Revenue' : [revenue]})\n",
    "summary.style.format({'Average Price' : '${:,.2f}', \n",
    "                    'Total Revenue': '${:,.2f}'})"
   ]
  },
  {
   "cell_type": "code",
   "execution_count": null,
   "metadata": {
    "scrolled": true
   },
   "outputs": [],
   "source": []
  },
  {
   "cell_type": "markdown",
   "metadata": {},
   "source": [
    "## Gender Demographics"
   ]
  },
  {
   "cell_type": "markdown",
   "metadata": {},
   "source": [
    "* Percentage and Count of Male Players\n",
    "\n",
    "\n",
    "* Percentage and Count of Female Players\n",
    "\n",
    "\n",
    "* Percentage and Count of Other / Non-Disclosed\n",
    "\n",
    "\n"
   ]
  },
  {
   "cell_type": "code",
   "execution_count": 14,
   "metadata": {},
   "outputs": [
    {
     "data": {
      "text/html": [
       "<style type=\"text/css\">\n",
       "</style>\n",
       "<table id=\"T_e8370_\">\n",
       "  <thead>\n",
       "    <tr>\n",
       "      <th class=\"blank level0\" >&nbsp;</th>\n",
       "      <th class=\"col_heading level0 col0\" >Total Count</th>\n",
       "      <th class=\"col_heading level0 col1\" >Percentage of Players</th>\n",
       "    </tr>\n",
       "    <tr>\n",
       "      <th class=\"index_name level0\" >Gender</th>\n",
       "      <th class=\"blank col0\" >&nbsp;</th>\n",
       "      <th class=\"blank col1\" >&nbsp;</th>\n",
       "    </tr>\n",
       "  </thead>\n",
       "  <tbody>\n",
       "    <tr>\n",
       "      <th id=\"T_e8370_level0_row0\" class=\"row_heading level0 row0\" >Male</th>\n",
       "      <td id=\"T_e8370_row0_col0\" class=\"data row0 col0\" >484</td>\n",
       "      <td id=\"T_e8370_row0_col1\" class=\"data row0 col1\" >84.03%</td>\n",
       "    </tr>\n",
       "    <tr>\n",
       "      <th id=\"T_e8370_level0_row1\" class=\"row_heading level0 row1\" >Female</th>\n",
       "      <td id=\"T_e8370_row1_col0\" class=\"data row1 col0\" >81</td>\n",
       "      <td id=\"T_e8370_row1_col1\" class=\"data row1 col1\" >14.06%</td>\n",
       "    </tr>\n",
       "    <tr>\n",
       "      <th id=\"T_e8370_level0_row2\" class=\"row_heading level0 row2\" >Other / Non-Disclosed</th>\n",
       "      <td id=\"T_e8370_row2_col0\" class=\"data row2 col0\" >11</td>\n",
       "      <td id=\"T_e8370_row2_col1\" class=\"data row2 col1\" >1.91%</td>\n",
       "    </tr>\n",
       "  </tbody>\n",
       "</table>\n"
      ],
      "text/plain": [
       "<pandas.io.formats.style.Styler at 0x23bd63f97c0>"
      ]
     },
     "execution_count": 14,
     "metadata": {},
     "output_type": "execute_result"
    }
   ],
   "source": [
    "gender = purchase_data.groupby(\"Gender\")\n",
    "total_gender = gender.nunique()[\"SN\"]\n",
    "\n",
    "# % of gender\n",
    "gender_percent = total_gender / total_players * 100\n",
    "gender_stat = pd.DataFrame({\"Total Count\":total_gender, \"Percentage of Players\":gender_percent})\n",
    "gender_stat.sort_values(['Total Count'], ascending=False).style.format({\"Percentage of Players\":\"{:.2f}%\"})"
   ]
  },
  {
   "cell_type": "code",
   "execution_count": null,
   "metadata": {},
   "outputs": [],
   "source": []
  },
  {
   "cell_type": "markdown",
   "metadata": {},
   "source": [
    "\n",
    "## Purchasing Analysis (Gender)"
   ]
  },
  {
   "cell_type": "markdown",
   "metadata": {},
   "source": [
    "* Run basic calculations to obtain purchase count, avg. purchase price, avg. purchase total per person etc. by gender\n",
    "\n",
    "\n",
    "\n",
    "\n",
    "* Create a summary data frame to hold the results\n",
    "\n",
    "\n",
    "* Optional: give the displayed data cleaner formatting\n",
    "\n",
    "\n",
    "* Display the summary data frame"
   ]
  },
  {
   "cell_type": "code",
   "execution_count": 8,
   "metadata": {},
   "outputs": [
    {
     "data": {
      "text/html": [
       "<style type=\"text/css\">\n",
       "</style>\n",
       "<table id=\"T_510ed_\">\n",
       "  <thead>\n",
       "    <tr>\n",
       "      <th class=\"blank level0\" >&nbsp;</th>\n",
       "      <th class=\"col_heading level0 col0\" >Purchase Count</th>\n",
       "      <th class=\"col_heading level0 col1\" >Avg. Purchase Price</th>\n",
       "      <th class=\"col_heading level0 col2\" >Avg. Purchase Total</th>\n",
       "      <th class=\"col_heading level0 col3\" >Avg. Purchase Total per Person</th>\n",
       "    </tr>\n",
       "    <tr>\n",
       "      <th class=\"index_name level0\" >Gender</th>\n",
       "      <th class=\"blank col0\" >&nbsp;</th>\n",
       "      <th class=\"blank col1\" >&nbsp;</th>\n",
       "      <th class=\"blank col2\" >&nbsp;</th>\n",
       "      <th class=\"blank col3\" >&nbsp;</th>\n",
       "    </tr>\n",
       "  </thead>\n",
       "  <tbody>\n",
       "    <tr>\n",
       "      <th id=\"T_510ed_level0_row0\" class=\"row_heading level0 row0\" >Female</th>\n",
       "      <td id=\"T_510ed_row0_col0\" class=\"data row0 col0\" >113</td>\n",
       "      <td id=\"T_510ed_row0_col1\" class=\"data row0 col1\" >$3.05</td>\n",
       "      <td id=\"T_510ed_row0_col2\" class=\"data row0 col2\" >$361.94</td>\n",
       "      <td id=\"T_510ed_row0_col3\" class=\"data row0 col3\" >$4.47</td>\n",
       "    </tr>\n",
       "    <tr>\n",
       "      <th id=\"T_510ed_level0_row1\" class=\"row_heading level0 row1\" >Male</th>\n",
       "      <td id=\"T_510ed_row1_col0\" class=\"data row1 col0\" >652</td>\n",
       "      <td id=\"T_510ed_row1_col1\" class=\"data row1 col1\" >$3.05</td>\n",
       "      <td id=\"T_510ed_row1_col2\" class=\"data row1 col2\" >$1,967.64</td>\n",
       "      <td id=\"T_510ed_row1_col3\" class=\"data row1 col3\" >$4.07</td>\n",
       "    </tr>\n",
       "    <tr>\n",
       "      <th id=\"T_510ed_level0_row2\" class=\"row_heading level0 row2\" >Other / Non-Disclosed</th>\n",
       "      <td id=\"T_510ed_row2_col0\" class=\"data row2 col0\" >15</td>\n",
       "      <td id=\"T_510ed_row2_col1\" class=\"data row2 col1\" >$3.05</td>\n",
       "      <td id=\"T_510ed_row2_col2\" class=\"data row2 col2\" >$50.19</td>\n",
       "      <td id=\"T_510ed_row2_col3\" class=\"data row2 col3\" >$4.56</td>\n",
       "    </tr>\n",
       "  </tbody>\n",
       "</table>\n"
      ],
      "text/plain": [
       "<pandas.io.formats.style.Styler at 0x23bd721a8e0>"
      ]
     },
     "execution_count": 8,
     "metadata": {},
     "output_type": "execute_result"
    }
   ],
   "source": [
    "# count the total purchase count by gender\n",
    "total_purchase = gender['Purchase ID'].count()\n",
    "\n",
    "# average purchase by gender\n",
    "avg_purchase = gender['Price'].mean()\n",
    "\n",
    "#average purchase total\n",
    "avg_purchase_total = gender['Price'].sum()\n",
    "\n",
    "# avg purchase by person\n",
    "avg_purchase_person = avg_purchase_total / total_gender\n",
    "\n",
    "gender_stats = pd.DataFrame({'Purchase Count':total_purchase,\n",
    "                             'Avg. Purchase Price': avg_price,\n",
    "                             'Avg. Purchase Total':avg_purchase_total,\n",
    "                             'Avg. Purchase Total per Person':avg_purchase_person})\n",
    "\n",
    "gender_stats.style.format({'Avg. Purchase Price': '${:,.2f}',\n",
    "                          'Avg. Purchase Total': '${:,.2f}',\n",
    "                          'Avg. Purchase Total per Person': '${:,.2f}'})\n"
   ]
  },
  {
   "cell_type": "markdown",
   "metadata": {},
   "source": [
    "## Age Demographics"
   ]
  },
  {
   "cell_type": "markdown",
   "metadata": {},
   "source": [
    "* Establish bins for ages\n",
    "\n",
    "\n",
    "* Categorize the existing players using the age bins. Hint: use pd.cut()\n",
    "\n",
    "\n",
    "* Calculate the numbers and percentages by age group\n",
    "\n",
    "\n",
    "* Create a summary data frame to hold the results\n",
    "\n",
    "\n",
    "* Optional: round the percentage column to two decimal points\n",
    "\n",
    "\n",
    "* Display Age Demographics Table\n"
   ]
  },
  {
   "cell_type": "code",
   "execution_count": 15,
   "metadata": {},
   "outputs": [
    {
     "data": {
      "text/html": [
       "<style type=\"text/css\">\n",
       "</style>\n",
       "<table id=\"T_c9c1a_\">\n",
       "  <thead>\n",
       "    <tr>\n",
       "      <th class=\"blank level0\" >&nbsp;</th>\n",
       "      <th class=\"col_heading level0 col0\" >Total Count</th>\n",
       "      <th class=\"col_heading level0 col1\" >Percentage of Players</th>\n",
       "    </tr>\n",
       "    <tr>\n",
       "      <th class=\"index_name level0\" >Age Group</th>\n",
       "      <th class=\"blank col0\" >&nbsp;</th>\n",
       "      <th class=\"blank col1\" >&nbsp;</th>\n",
       "    </tr>\n",
       "  </thead>\n",
       "  <tbody>\n",
       "    <tr>\n",
       "      <th id=\"T_c9c1a_level0_row0\" class=\"row_heading level0 row0\" ><10</th>\n",
       "      <td id=\"T_c9c1a_row0_col0\" class=\"data row0 col0\" >17</td>\n",
       "      <td id=\"T_c9c1a_row0_col1\" class=\"data row0 col1\" >2.95%</td>\n",
       "    </tr>\n",
       "    <tr>\n",
       "      <th id=\"T_c9c1a_level0_row1\" class=\"row_heading level0 row1\" >10-14</th>\n",
       "      <td id=\"T_c9c1a_row1_col0\" class=\"data row1 col0\" >22</td>\n",
       "      <td id=\"T_c9c1a_row1_col1\" class=\"data row1 col1\" >3.82%</td>\n",
       "    </tr>\n",
       "    <tr>\n",
       "      <th id=\"T_c9c1a_level0_row2\" class=\"row_heading level0 row2\" >15-19</th>\n",
       "      <td id=\"T_c9c1a_row2_col0\" class=\"data row2 col0\" >107</td>\n",
       "      <td id=\"T_c9c1a_row2_col1\" class=\"data row2 col1\" >18.58%</td>\n",
       "    </tr>\n",
       "    <tr>\n",
       "      <th id=\"T_c9c1a_level0_row3\" class=\"row_heading level0 row3\" >20-24</th>\n",
       "      <td id=\"T_c9c1a_row3_col0\" class=\"data row3 col0\" >258</td>\n",
       "      <td id=\"T_c9c1a_row3_col1\" class=\"data row3 col1\" >44.79%</td>\n",
       "    </tr>\n",
       "    <tr>\n",
       "      <th id=\"T_c9c1a_level0_row4\" class=\"row_heading level0 row4\" >25-29</th>\n",
       "      <td id=\"T_c9c1a_row4_col0\" class=\"data row4 col0\" >77</td>\n",
       "      <td id=\"T_c9c1a_row4_col1\" class=\"data row4 col1\" >13.37%</td>\n",
       "    </tr>\n",
       "    <tr>\n",
       "      <th id=\"T_c9c1a_level0_row5\" class=\"row_heading level0 row5\" >30-34</th>\n",
       "      <td id=\"T_c9c1a_row5_col0\" class=\"data row5 col0\" >52</td>\n",
       "      <td id=\"T_c9c1a_row5_col1\" class=\"data row5 col1\" >9.03%</td>\n",
       "    </tr>\n",
       "    <tr>\n",
       "      <th id=\"T_c9c1a_level0_row6\" class=\"row_heading level0 row6\" >35-39</th>\n",
       "      <td id=\"T_c9c1a_row6_col0\" class=\"data row6 col0\" >31</td>\n",
       "      <td id=\"T_c9c1a_row6_col1\" class=\"data row6 col1\" >5.38%</td>\n",
       "    </tr>\n",
       "    <tr>\n",
       "      <th id=\"T_c9c1a_level0_row7\" class=\"row_heading level0 row7\" >40+</th>\n",
       "      <td id=\"T_c9c1a_row7_col0\" class=\"data row7 col0\" >12</td>\n",
       "      <td id=\"T_c9c1a_row7_col1\" class=\"data row7 col1\" >2.08%</td>\n",
       "    </tr>\n",
       "  </tbody>\n",
       "</table>\n"
      ],
      "text/plain": [
       "<pandas.io.formats.style.Styler at 0x23bd63f9d60>"
      ]
     },
     "execution_count": 15,
     "metadata": {},
     "output_type": "execute_result"
    }
   ],
   "source": [
    "age_bins = [0, 9.90, 14.90, 19.90, 24.90, 29.90, 34.90, 39.90, 99999]\n",
    "group_names = [\"<10\", \"10-14\", \"15-19\", \"20-24\", \"25-29\", \"30-34\", \"35-39\", \"40+\"]\n",
    "\n",
    "\n",
    "purchase_data['Age Group'] = pd.cut(purchase_data['Age'], age_bins, labels=group_names)\n",
    "purchase_data.head()\n",
    "\n",
    "# create new data frame with age group\n",
    "aged_group = purchase_data.groupby('Age Group')\n",
    "\n",
    "age_group_count = aged_group['SN'].nunique()\n",
    "\n",
    "age_group_percent = age_group_count / total_players *100\n",
    "\n",
    "age_stats = pd.DataFrame({'Total Count':age_group_count, 'Percentage of Players':age_group_percent})\n",
    "age_stats.style.format({'Percentage of Players':'{:,.2f}%'})"
   ]
  },
  {
   "cell_type": "markdown",
   "metadata": {},
   "source": [
    "## Purchasing Analysis (Age)"
   ]
  },
  {
   "cell_type": "markdown",
   "metadata": {},
   "source": [
    "* Bin the purchase_data data frame by age\n",
    "\n",
    "\n",
    "* Run basic calculations to obtain purchase count, avg. purchase price, avg. purchase total per person etc. in the table below\n",
    "\n",
    "\n",
    "* Create a summary data frame to hold the results\n",
    "\n",
    "\n",
    "* Optional: give the displayed data cleaner formatting\n",
    "\n",
    "\n",
    "* Display the summary data frame"
   ]
  },
  {
   "cell_type": "code",
   "execution_count": 16,
   "metadata": {},
   "outputs": [
    {
     "data": {
      "text/html": [
       "<style type=\"text/css\">\n",
       "</style>\n",
       "<table id=\"T_6850c_\">\n",
       "  <thead>\n",
       "    <tr>\n",
       "      <th class=\"blank level0\" >&nbsp;</th>\n",
       "      <th class=\"col_heading level0 col0\" >Purchase Count</th>\n",
       "      <th class=\"col_heading level0 col1\" >Avg. Purchase Price</th>\n",
       "      <th class=\"col_heading level0 col2\" >Avg. Purchase Total</th>\n",
       "      <th class=\"col_heading level0 col3\" >Avg. Purchase Total per Person</th>\n",
       "    </tr>\n",
       "    <tr>\n",
       "      <th class=\"index_name level0\" >Age Group</th>\n",
       "      <th class=\"blank col0\" >&nbsp;</th>\n",
       "      <th class=\"blank col1\" >&nbsp;</th>\n",
       "      <th class=\"blank col2\" >&nbsp;</th>\n",
       "      <th class=\"blank col3\" >&nbsp;</th>\n",
       "    </tr>\n",
       "  </thead>\n",
       "  <tbody>\n",
       "    <tr>\n",
       "      <th id=\"T_6850c_level0_row0\" class=\"row_heading level0 row0\" ><10</th>\n",
       "      <td id=\"T_6850c_row0_col0\" class=\"data row0 col0\" >23</td>\n",
       "      <td id=\"T_6850c_row0_col1\" class=\"data row0 col1\" >$3.35</td>\n",
       "      <td id=\"T_6850c_row0_col2\" class=\"data row0 col2\" >$77.13</td>\n",
       "      <td id=\"T_6850c_row0_col3\" class=\"data row0 col3\" >$4.54</td>\n",
       "    </tr>\n",
       "    <tr>\n",
       "      <th id=\"T_6850c_level0_row1\" class=\"row_heading level0 row1\" >10-14</th>\n",
       "      <td id=\"T_6850c_row1_col0\" class=\"data row1 col0\" >28</td>\n",
       "      <td id=\"T_6850c_row1_col1\" class=\"data row1 col1\" >$2.96</td>\n",
       "      <td id=\"T_6850c_row1_col2\" class=\"data row1 col2\" >$82.78</td>\n",
       "      <td id=\"T_6850c_row1_col3\" class=\"data row1 col3\" >$3.76</td>\n",
       "    </tr>\n",
       "    <tr>\n",
       "      <th id=\"T_6850c_level0_row2\" class=\"row_heading level0 row2\" >15-19</th>\n",
       "      <td id=\"T_6850c_row2_col0\" class=\"data row2 col0\" >136</td>\n",
       "      <td id=\"T_6850c_row2_col1\" class=\"data row2 col1\" >$3.04</td>\n",
       "      <td id=\"T_6850c_row2_col2\" class=\"data row2 col2\" >$412.89</td>\n",
       "      <td id=\"T_6850c_row2_col3\" class=\"data row2 col3\" >$3.86</td>\n",
       "    </tr>\n",
       "    <tr>\n",
       "      <th id=\"T_6850c_level0_row3\" class=\"row_heading level0 row3\" >20-24</th>\n",
       "      <td id=\"T_6850c_row3_col0\" class=\"data row3 col0\" >365</td>\n",
       "      <td id=\"T_6850c_row3_col1\" class=\"data row3 col1\" >$3.05</td>\n",
       "      <td id=\"T_6850c_row3_col2\" class=\"data row3 col2\" >$1,114.06</td>\n",
       "      <td id=\"T_6850c_row3_col3\" class=\"data row3 col3\" >$4.32</td>\n",
       "    </tr>\n",
       "    <tr>\n",
       "      <th id=\"T_6850c_level0_row4\" class=\"row_heading level0 row4\" >25-29</th>\n",
       "      <td id=\"T_6850c_row4_col0\" class=\"data row4 col0\" >101</td>\n",
       "      <td id=\"T_6850c_row4_col1\" class=\"data row4 col1\" >$2.90</td>\n",
       "      <td id=\"T_6850c_row4_col2\" class=\"data row4 col2\" >$293.00</td>\n",
       "      <td id=\"T_6850c_row4_col3\" class=\"data row4 col3\" >$3.81</td>\n",
       "    </tr>\n",
       "    <tr>\n",
       "      <th id=\"T_6850c_level0_row5\" class=\"row_heading level0 row5\" >30-34</th>\n",
       "      <td id=\"T_6850c_row5_col0\" class=\"data row5 col0\" >73</td>\n",
       "      <td id=\"T_6850c_row5_col1\" class=\"data row5 col1\" >$2.93</td>\n",
       "      <td id=\"T_6850c_row5_col2\" class=\"data row5 col2\" >$214.00</td>\n",
       "      <td id=\"T_6850c_row5_col3\" class=\"data row5 col3\" >$4.12</td>\n",
       "    </tr>\n",
       "    <tr>\n",
       "      <th id=\"T_6850c_level0_row6\" class=\"row_heading level0 row6\" >35-39</th>\n",
       "      <td id=\"T_6850c_row6_col0\" class=\"data row6 col0\" >41</td>\n",
       "      <td id=\"T_6850c_row6_col1\" class=\"data row6 col1\" >$3.60</td>\n",
       "      <td id=\"T_6850c_row6_col2\" class=\"data row6 col2\" >$147.67</td>\n",
       "      <td id=\"T_6850c_row6_col3\" class=\"data row6 col3\" >$4.76</td>\n",
       "    </tr>\n",
       "    <tr>\n",
       "      <th id=\"T_6850c_level0_row7\" class=\"row_heading level0 row7\" >40+</th>\n",
       "      <td id=\"T_6850c_row7_col0\" class=\"data row7 col0\" >13</td>\n",
       "      <td id=\"T_6850c_row7_col1\" class=\"data row7 col1\" >$2.94</td>\n",
       "      <td id=\"T_6850c_row7_col2\" class=\"data row7 col2\" >$38.24</td>\n",
       "      <td id=\"T_6850c_row7_col3\" class=\"data row7 col3\" >$3.19</td>\n",
       "    </tr>\n",
       "  </tbody>\n",
       "</table>\n"
      ],
      "text/plain": [
       "<pandas.io.formats.style.Styler at 0x23bd63f9760>"
      ]
     },
     "execution_count": 16,
     "metadata": {},
     "output_type": "execute_result"
    }
   ],
   "source": [
    "purchase_count_age = aged_group['Purchase ID'].count()\n",
    "\n",
    "avg_price_age = aged_group['Price'].mean()\n",
    "\n",
    "avg_purchase_total = aged_group['Price'].sum()\n",
    "\n",
    "avg_purchase_person_age = avg_purchase_total / age_group_count\n",
    "\n",
    "age_stats = pd.DataFrame({'Purchase Count': purchase_count_age,\n",
    "                             'Avg. Purchase Price': avg_price_age,\n",
    "                             'Avg. Purchase Total':avg_purchase_total,\n",
    "                             'Avg. Purchase Total per Person':avg_purchase_person_age})\n",
    "\n",
    "age_stats.style.format({\"Avg. Purchase Price\":\"${:,.2f}\",\n",
    "                               \"Avg. Purchase Total\":\"${:,.2f}\",\n",
    "                               \"Avg. Purchase Total per Person\":\"${:,.2f}\"})"
   ]
  },
  {
   "cell_type": "markdown",
   "metadata": {},
   "source": [
    "## Top Spenders"
   ]
  },
  {
   "cell_type": "markdown",
   "metadata": {},
   "source": [
    "* Run basic calculations to obtain the results in the table below\n",
    "\n",
    "\n",
    "* Create a summary data frame to hold the results\n",
    "\n",
    "\n",
    "* Sort the total purchase value column in descending order\n",
    "\n",
    "\n",
    "* Optional: give the displayed data cleaner formatting\n",
    "\n",
    "\n",
    "* Display a preview of the summary data frame\n",
    "\n"
   ]
  },
  {
   "cell_type": "code",
   "execution_count": 11,
   "metadata": {},
   "outputs": [
    {
     "data": {
      "text/html": [
       "<style type=\"text/css\">\n",
       "</style>\n",
       "<table id=\"T_6102b_\">\n",
       "  <thead>\n",
       "    <tr>\n",
       "      <th class=\"blank level0\" >&nbsp;</th>\n",
       "      <th class=\"col_heading level0 col0\" >Purchase Count</th>\n",
       "      <th class=\"col_heading level0 col1\" >Average Purchase Price</th>\n",
       "      <th class=\"col_heading level0 col2\" >Total Purchase Value</th>\n",
       "    </tr>\n",
       "    <tr>\n",
       "      <th class=\"index_name level0\" >SN</th>\n",
       "      <th class=\"blank col0\" >&nbsp;</th>\n",
       "      <th class=\"blank col1\" >&nbsp;</th>\n",
       "      <th class=\"blank col2\" >&nbsp;</th>\n",
       "    </tr>\n",
       "  </thead>\n",
       "  <tbody>\n",
       "    <tr>\n",
       "      <th id=\"T_6102b_level0_row0\" class=\"row_heading level0 row0\" >Lisosia93</th>\n",
       "      <td id=\"T_6102b_row0_col0\" class=\"data row0 col0\" >5</td>\n",
       "      <td id=\"T_6102b_row0_col1\" class=\"data row0 col1\" >$3.79</td>\n",
       "      <td id=\"T_6102b_row0_col2\" class=\"data row0 col2\" >$18.96</td>\n",
       "    </tr>\n",
       "    <tr>\n",
       "      <th id=\"T_6102b_level0_row1\" class=\"row_heading level0 row1\" >Idastidru52</th>\n",
       "      <td id=\"T_6102b_row1_col0\" class=\"data row1 col0\" >4</td>\n",
       "      <td id=\"T_6102b_row1_col1\" class=\"data row1 col1\" >$3.86</td>\n",
       "      <td id=\"T_6102b_row1_col2\" class=\"data row1 col2\" >$15.45</td>\n",
       "    </tr>\n",
       "    <tr>\n",
       "      <th id=\"T_6102b_level0_row2\" class=\"row_heading level0 row2\" >Chamjask73</th>\n",
       "      <td id=\"T_6102b_row2_col0\" class=\"data row2 col0\" >3</td>\n",
       "      <td id=\"T_6102b_row2_col1\" class=\"data row2 col1\" >$4.61</td>\n",
       "      <td id=\"T_6102b_row2_col2\" class=\"data row2 col2\" >$13.83</td>\n",
       "    </tr>\n",
       "    <tr>\n",
       "      <th id=\"T_6102b_level0_row3\" class=\"row_heading level0 row3\" >Iral74</th>\n",
       "      <td id=\"T_6102b_row3_col0\" class=\"data row3 col0\" >4</td>\n",
       "      <td id=\"T_6102b_row3_col1\" class=\"data row3 col1\" >$3.41</td>\n",
       "      <td id=\"T_6102b_row3_col2\" class=\"data row3 col2\" >$13.62</td>\n",
       "    </tr>\n",
       "    <tr>\n",
       "      <th id=\"T_6102b_level0_row4\" class=\"row_heading level0 row4\" >Iskadarya95</th>\n",
       "      <td id=\"T_6102b_row4_col0\" class=\"data row4 col0\" >3</td>\n",
       "      <td id=\"T_6102b_row4_col1\" class=\"data row4 col1\" >$4.37</td>\n",
       "      <td id=\"T_6102b_row4_col2\" class=\"data row4 col2\" >$13.10</td>\n",
       "    </tr>\n",
       "  </tbody>\n",
       "</table>\n"
      ],
      "text/plain": [
       "<pandas.io.formats.style.Styler at 0x23bd721a760>"
      ]
     },
     "execution_count": 11,
     "metadata": {},
     "output_type": "execute_result"
    }
   ],
   "source": [
    "spender = purchase_data.groupby('SN')\n",
    "\n",
    "#count total purchase by name\n",
    "spender_purchase_count = spender['Purchase ID'].count()\n",
    "\n",
    "spender_avg_purchase_price = spender['Price'].mean()\n",
    "\n",
    "spender_purchase_total = spender['Price'].sum()\n",
    "\n",
    "# create a dataframe for top spender\n",
    "top_spenders = pd.DataFrame({\"Purchase Count\": spender_purchase_count,\n",
    "                             \"Average Purchase Price\": spender_avg_purchase_price,\n",
    "                             \"Total Purchase Value\":spender_purchase_total})\n",
    "\n",
    "                             \n",
    "top_spender = top_spenders.sort_values([\"Total Purchase Value\"], ascending=False).head().style.format({\"Average Purchase Total\":\"${:,.2f}\",\n",
    "                                                                                                \"Average Purchase Price\":\"${:,.2f}\", \n",
    "                                                                                                \"Total Purchase Value\":\"${:,.2f}\"})\n",
    "top_spender"
   ]
  },
  {
   "cell_type": "markdown",
   "metadata": {},
   "source": [
    "## Most Popular Items"
   ]
  },
  {
   "cell_type": "markdown",
   "metadata": {},
   "source": [
    "* Retrieve the Item ID, Item Name, and Item Price columns\n",
    "\n",
    "\n",
    "* Group by Item ID and Item Name. Perform calculations to obtain purchase count, item price, and total purchase value\n",
    "\n",
    "\n",
    "* Create a summary data frame to hold the results\n",
    "\n",
    "\n",
    "* Sort the purchase count column in descending order\n",
    "\n",
    "\n",
    "* Optional: give the displayed data cleaner formatting\n",
    "\n",
    "\n",
    "* Display a preview of the summary data frame\n",
    "\n"
   ]
  },
  {
   "cell_type": "code",
   "execution_count": 12,
   "metadata": {},
   "outputs": [
    {
     "data": {
      "text/html": [
       "<style type=\"text/css\">\n",
       "</style>\n",
       "<table id=\"T_cb8c6_\">\n",
       "  <thead>\n",
       "    <tr>\n",
       "      <th class=\"blank\" >&nbsp;</th>\n",
       "      <th class=\"blank level0\" >&nbsp;</th>\n",
       "      <th class=\"col_heading level0 col0\" >Purchase Count</th>\n",
       "      <th class=\"col_heading level0 col1\" >Item Price</th>\n",
       "      <th class=\"col_heading level0 col2\" >Total Purchase Value</th>\n",
       "    </tr>\n",
       "    <tr>\n",
       "      <th class=\"index_name level0\" >Item ID</th>\n",
       "      <th class=\"index_name level1\" >Item Name</th>\n",
       "      <th class=\"blank col0\" >&nbsp;</th>\n",
       "      <th class=\"blank col1\" >&nbsp;</th>\n",
       "      <th class=\"blank col2\" >&nbsp;</th>\n",
       "    </tr>\n",
       "  </thead>\n",
       "  <tbody>\n",
       "    <tr>\n",
       "      <th id=\"T_cb8c6_level0_row0\" class=\"row_heading level0 row0\" >92</th>\n",
       "      <th id=\"T_cb8c6_level1_row0\" class=\"row_heading level1 row0\" >Final Critic</th>\n",
       "      <td id=\"T_cb8c6_row0_col0\" class=\"data row0 col0\" >13</td>\n",
       "      <td id=\"T_cb8c6_row0_col1\" class=\"data row0 col1\" >$4.61</td>\n",
       "      <td id=\"T_cb8c6_row0_col2\" class=\"data row0 col2\" >$59.99</td>\n",
       "    </tr>\n",
       "    <tr>\n",
       "      <th id=\"T_cb8c6_level0_row1\" class=\"row_heading level0 row1\" >178</th>\n",
       "      <th id=\"T_cb8c6_level1_row1\" class=\"row_heading level1 row1\" >Oathbreaker, Last Hope of the Breaking Storm</th>\n",
       "      <td id=\"T_cb8c6_row1_col0\" class=\"data row1 col0\" >12</td>\n",
       "      <td id=\"T_cb8c6_row1_col1\" class=\"data row1 col1\" >$4.23</td>\n",
       "      <td id=\"T_cb8c6_row1_col2\" class=\"data row1 col2\" >$50.76</td>\n",
       "    </tr>\n",
       "    <tr>\n",
       "      <th id=\"T_cb8c6_level0_row2\" class=\"row_heading level0 row2\" >145</th>\n",
       "      <th id=\"T_cb8c6_level1_row2\" class=\"row_heading level1 row2\" >Fiery Glass Crusader</th>\n",
       "      <td id=\"T_cb8c6_row2_col0\" class=\"data row2 col0\" >9</td>\n",
       "      <td id=\"T_cb8c6_row2_col1\" class=\"data row2 col1\" >$4.58</td>\n",
       "      <td id=\"T_cb8c6_row2_col2\" class=\"data row2 col2\" >$41.22</td>\n",
       "    </tr>\n",
       "    <tr>\n",
       "      <th id=\"T_cb8c6_level0_row3\" class=\"row_heading level0 row3\" >132</th>\n",
       "      <th id=\"T_cb8c6_level1_row3\" class=\"row_heading level1 row3\" >Persuasion</th>\n",
       "      <td id=\"T_cb8c6_row3_col0\" class=\"data row3 col0\" >9</td>\n",
       "      <td id=\"T_cb8c6_row3_col1\" class=\"data row3 col1\" >$3.22</td>\n",
       "      <td id=\"T_cb8c6_row3_col2\" class=\"data row3 col2\" >$28.99</td>\n",
       "    </tr>\n",
       "    <tr>\n",
       "      <th id=\"T_cb8c6_level0_row4\" class=\"row_heading level0 row4\" >108</th>\n",
       "      <th id=\"T_cb8c6_level1_row4\" class=\"row_heading level1 row4\" >Extraction, Quickblade Of Trembling Hands</th>\n",
       "      <td id=\"T_cb8c6_row4_col0\" class=\"data row4 col0\" >9</td>\n",
       "      <td id=\"T_cb8c6_row4_col1\" class=\"data row4 col1\" >$3.53</td>\n",
       "      <td id=\"T_cb8c6_row4_col2\" class=\"data row4 col2\" >$31.77</td>\n",
       "    </tr>\n",
       "  </tbody>\n",
       "</table>\n"
      ],
      "text/plain": [
       "<pandas.io.formats.style.Styler at 0x23bd71dc850>"
      ]
     },
     "execution_count": 12,
     "metadata": {},
     "output_type": "execute_result"
    }
   ],
   "source": [
    "items = purchase_data[['Item ID', 'Item Name', 'Price']]\n",
    "\n",
    "item_stat = items.groupby(['Item ID', 'Item Name'])\n",
    "\n",
    "item_purchase_count = item_stat['Price'].count()\n",
    "\n",
    "item_total_purchase_value = item_stat['Price'].sum()\n",
    "\n",
    "item_price = item_total_purchase_value /  item_purchase_count\n",
    "\n",
    "# Create data frame with obtained values\n",
    "popular_items = pd.DataFrame({\"Purchase Count\": item_purchase_count, \n",
    "                                   \"Item Price\": item_price,\n",
    "                                   \"Total Purchase Value\": item_total_purchase_value})\n",
    "\n",
    "formatted_popular_items = popular_items.sort_values([\"Purchase Count\"], ascending=False).head().style.format({\"Item Price\":\"${:,.2f}\",\n",
    "                                                                                                    \"Total Purchase Value\":\"${:,.2f}\"})\n",
    "formatted_popular_items"
   ]
  },
  {
   "cell_type": "markdown",
   "metadata": {},
   "source": [
    "## Most Profitable Items"
   ]
  },
  {
   "cell_type": "markdown",
   "metadata": {},
   "source": [
    "* Sort the above table by total purchase value in descending order\n",
    "\n",
    "\n",
    "* Optional: give the displayed data cleaner formatting\n",
    "\n",
    "\n",
    "* Display a preview of the data frame\n",
    "\n"
   ]
  },
  {
   "cell_type": "code",
   "execution_count": 13,
   "metadata": {
    "scrolled": true
   },
   "outputs": [
    {
     "data": {
      "text/html": [
       "<style type=\"text/css\">\n",
       "</style>\n",
       "<table id=\"T_11946_\">\n",
       "  <thead>\n",
       "    <tr>\n",
       "      <th class=\"blank\" >&nbsp;</th>\n",
       "      <th class=\"blank level0\" >&nbsp;</th>\n",
       "      <th class=\"col_heading level0 col0\" >Purchase Count</th>\n",
       "      <th class=\"col_heading level0 col1\" >Item Price</th>\n",
       "      <th class=\"col_heading level0 col2\" >Total Purchase Value</th>\n",
       "    </tr>\n",
       "    <tr>\n",
       "      <th class=\"index_name level0\" >Item ID</th>\n",
       "      <th class=\"index_name level1\" >Item Name</th>\n",
       "      <th class=\"blank col0\" >&nbsp;</th>\n",
       "      <th class=\"blank col1\" >&nbsp;</th>\n",
       "      <th class=\"blank col2\" >&nbsp;</th>\n",
       "    </tr>\n",
       "  </thead>\n",
       "  <tbody>\n",
       "    <tr>\n",
       "      <th id=\"T_11946_level0_row0\" class=\"row_heading level0 row0\" >92</th>\n",
       "      <th id=\"T_11946_level1_row0\" class=\"row_heading level1 row0\" >Final Critic</th>\n",
       "      <td id=\"T_11946_row0_col0\" class=\"data row0 col0\" >13</td>\n",
       "      <td id=\"T_11946_row0_col1\" class=\"data row0 col1\" >$4.61</td>\n",
       "      <td id=\"T_11946_row0_col2\" class=\"data row0 col2\" >$59.99</td>\n",
       "    </tr>\n",
       "    <tr>\n",
       "      <th id=\"T_11946_level0_row1\" class=\"row_heading level0 row1\" >178</th>\n",
       "      <th id=\"T_11946_level1_row1\" class=\"row_heading level1 row1\" >Oathbreaker, Last Hope of the Breaking Storm</th>\n",
       "      <td id=\"T_11946_row1_col0\" class=\"data row1 col0\" >12</td>\n",
       "      <td id=\"T_11946_row1_col1\" class=\"data row1 col1\" >$4.23</td>\n",
       "      <td id=\"T_11946_row1_col2\" class=\"data row1 col2\" >$50.76</td>\n",
       "    </tr>\n",
       "    <tr>\n",
       "      <th id=\"T_11946_level0_row2\" class=\"row_heading level0 row2\" >82</th>\n",
       "      <th id=\"T_11946_level1_row2\" class=\"row_heading level1 row2\" >Nirvana</th>\n",
       "      <td id=\"T_11946_row2_col0\" class=\"data row2 col0\" >9</td>\n",
       "      <td id=\"T_11946_row2_col1\" class=\"data row2 col1\" >$4.90</td>\n",
       "      <td id=\"T_11946_row2_col2\" class=\"data row2 col2\" >$44.10</td>\n",
       "    </tr>\n",
       "    <tr>\n",
       "      <th id=\"T_11946_level0_row3\" class=\"row_heading level0 row3\" >145</th>\n",
       "      <th id=\"T_11946_level1_row3\" class=\"row_heading level1 row3\" >Fiery Glass Crusader</th>\n",
       "      <td id=\"T_11946_row3_col0\" class=\"data row3 col0\" >9</td>\n",
       "      <td id=\"T_11946_row3_col1\" class=\"data row3 col1\" >$4.58</td>\n",
       "      <td id=\"T_11946_row3_col2\" class=\"data row3 col2\" >$41.22</td>\n",
       "    </tr>\n",
       "    <tr>\n",
       "      <th id=\"T_11946_level0_row4\" class=\"row_heading level0 row4\" >103</th>\n",
       "      <th id=\"T_11946_level1_row4\" class=\"row_heading level1 row4\" >Singed Scalpel</th>\n",
       "      <td id=\"T_11946_row4_col0\" class=\"data row4 col0\" >8</td>\n",
       "      <td id=\"T_11946_row4_col1\" class=\"data row4 col1\" >$4.35</td>\n",
       "      <td id=\"T_11946_row4_col2\" class=\"data row4 col2\" >$34.80</td>\n",
       "    </tr>\n",
       "  </tbody>\n",
       "</table>\n"
      ],
      "text/plain": [
       "<pandas.io.formats.style.Styler at 0x23bd7239f70>"
      ]
     },
     "execution_count": 13,
     "metadata": {},
     "output_type": "execute_result"
    }
   ],
   "source": [
    "formatted_popular_items = popular_items.sort_values([\"Total Purchase Value\"], ascending=False).head().style.format({\"Item Price\":\"${:,.2f}\",\n",
    "                                                                                                                    \"Total Purchase Value\":\"${:,.2f}\"})\n",
    "\n",
    "formatted_popular_items                                                                                     "
   ]
  },
  {
   "cell_type": "code",
   "execution_count": null,
   "metadata": {},
   "outputs": [],
   "source": []
  }
 ],
 "metadata": {
  "anaconda-cloud": {},
  "interpreter": {
   "hash": "d7288e82646d3164eca24130947288f8779d11454649f2c02a5dfc42af7f324c"
  },
  "kernel_info": {
   "name": "python3"
  },
  "kernelspec": {
   "display_name": "Python 3.9.7 ('base')",
   "language": "python",
   "name": "python3"
  },
  "language_info": {
   "codemirror_mode": {
    "name": "ipython",
    "version": 3
   },
   "file_extension": ".py",
   "mimetype": "text/x-python",
   "name": "python",
   "nbconvert_exporter": "python",
   "pygments_lexer": "ipython3",
   "version": "3.9.7"
  },
  "latex_envs": {
   "LaTeX_envs_menu_present": true,
   "autoclose": false,
   "autocomplete": true,
   "bibliofile": "biblio.bib",
   "cite_by": "apalike",
   "current_citInitial": 1,
   "eqLabelWithNumbers": true,
   "eqNumInitial": 1,
   "hotkeys": {
    "equation": "Ctrl-E",
    "itemize": "Ctrl-I"
   },
   "labels_anchors": false,
   "latex_user_defs": false,
   "report_style_numbering": false,
   "user_envs_cfg": false
  },
  "nteract": {
   "version": "0.2.0"
  }
 },
 "nbformat": 4,
 "nbformat_minor": 2
}
